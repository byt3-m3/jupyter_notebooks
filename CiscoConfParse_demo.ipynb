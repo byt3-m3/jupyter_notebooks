{
 "cells": [
  {
   "cell_type": "markdown",
   "metadata": {},
   "source": [
    "# CiscoConfParse Demonstration\n",
    "\n",
    "CiscoConfParse is a configuration parsing package that was created by David Michael Pennington. This package Allows the operator to easily parse Network device configurations but as the name suggest it is opitimize to parseing Cisco devices(IOS, ASA, NX-OS). \n",
    "\n",
    "In reality it does a greate job at parsing most other vendor text configuration files, the only thing that usually needs to be modified is the deliminator character, Cisco uses \"#\" by default. \n",
    "\n",
    "This is the offical link to the CiscoConfParse documentation:\n",
    "http://www.pennington.net/py/ciscoconfparse/\n",
    "\n",
    "In this example i will be using a sample of a 3750 switch configuration to test the various ConfParse Commands"
   ]
  },
  {
   "cell_type": "code",
   "execution_count": 13,
   "metadata": {},
   "outputs": [],
   "source": [
    "from ciscoconfparse import CiscoConfParse"
   ]
  },
  {
   "cell_type": "raw",
   "metadata": {},
   "source": [
    "Below we will be using a context manager to open the text configuration file and create a CiscoConfParse object in the process"
   ]
  },
  {
   "cell_type": "code",
   "execution_count": 22,
   "metadata": {},
   "outputs": [
    {
     "name": "stdout",
     "output_type": "stream",
     "text": [
      "<class 'ciscoconfparse.ciscoconfparse.CiscoConfParse'> \n",
      "\n",
      "['ConfigObjs', '__class__', '__delattr__', '__dict__', '__dir__', '__doc__', '__eq__', '__format__', '__ge__', '__getattribute__', '__gt__', '__hash__', '__init__', '__init_subclass__', '__le__', '__lt__', '__module__', '__ne__', '__new__', '__reduce__', '__reduce_ex__', '__repr__', '__setattr__', '__sizeof__', '__str__', '__subclasshook__', '__weakref__', '_build_space_tolerant_regex', '_find_all_child_OBJ', '_find_line_OBJ', '_find_sibling_OBJ', '_objects_to_uncfg', '_sequence_nonparent_lines', '_sequence_parent_lines', '_unique_OBJ', 'append_line', 'atomic', 'comment_delimiter', 'commit', 'convert_braces_to_ios', 'debug', 'delete_lines', 'factory', 'find_all_children', 'find_blocks', 'find_children', 'find_children_w_parents', 'find_interface_objects', 'find_lineage', 'find_lines', 'find_objects', 'find_objects_dna', 'find_objects_w_all_children', 'find_objects_w_child', 'find_objects_w_missing_children', 'find_objects_w_parents', 'find_objects_wo_child', 'find_parents_w_child', 'find_parents_wo_child', 'has_line_with', 'insert_after', 'insert_after_child', 'insert_before', 'ioscfg', 'objs', 'openargs', 'prepend_line', 'replace_all_children', 'replace_children', 'replace_lines', 'req_cfgspec_all_diff', 'req_cfgspec_excl_diff', 'save_as', 'sync_diff', 'syntax']\n"
     ]
    }
   ],
   "source": [
    "with open(\"files/config.txt\", \"r\") as f:\n",
    "    parse_obj = CiscoConfParse(f)\n",
    "    print(type(parse_obj), \"\\n\")\n",
    "    print(dir(parse_obj))\n"
   ]
  },
  {
   "cell_type": "code",
   "execution_count": 16,
   "metadata": {},
   "outputs": [
    {
     "name": "stdout",
     "output_type": "stream",
     "text": [
      "['hostname BITS-CORE-SW1\\n']\n"
     ]
    }
   ],
   "source": [
    "print(parse_obj.find_lines(\"hostname\"))"
   ]
  },
  {
   "cell_type": "code",
   "execution_count": 18,
   "metadata": {},
   "outputs": [
    {
     "name": "stdout",
     "output_type": "stream",
     "text": [
      "['ip ssh source-interface Vlan99\\n', 'interface GigabitEthernet1/0/1\\n', 'interface GigabitEthernet1/0/2\\n', 'interface GigabitEthernet1/0/3\\n', 'interface GigabitEthernet1/0/4\\n', 'interface GigabitEthernet1/0/5\\n', 'interface GigabitEthernet1/0/6\\n', 'interface GigabitEthernet1/0/7\\n', 'interface GigabitEthernet1/0/8\\n', 'interface GigabitEthernet1/0/9\\n', 'interface GigabitEthernet1/0/10\\n', 'interface GigabitEthernet1/0/11\\n', 'interface GigabitEthernet1/0/12\\n', 'interface GigabitEthernet1/0/13\\n', 'interface GigabitEthernet1/0/14\\n', 'interface GigabitEthernet1/0/15\\n', 'interface GigabitEthernet1/0/16\\n', 'interface GigabitEthernet1/0/17\\n', 'interface GigabitEthernet1/0/18\\n', 'interface GigabitEthernet1/0/19\\n', 'interface GigabitEthernet1/0/20\\n', 'interface GigabitEthernet1/0/21\\n', 'interface GigabitEthernet1/0/22\\n', 'interface GigabitEthernet1/0/23\\n', 'interface GigabitEthernet1/0/24\\n', 'interface Vlan99\\n', 'interface Vlan3100\\n', 'interface Vlan3101\\n', 'interface Vlan3140\\n']\n"
     ]
    }
   ],
   "source": [
    "print(parse_obj.find_parents_wo_child(\"interface\", \"shutdown\"))"
   ]
  },
  {
   "cell_type": "code",
   "execution_count": 19,
   "metadata": {},
   "outputs": [
    {
     "name": "stdout",
     "output_type": "stream",
     "text": [
      "['interface Vlan1\\n']\n"
     ]
    }
   ],
   "source": [
    "print(parse_obj.find_parents_w_child(\"interface\", \"shutdown\"))"
   ]
  },
  {
   "cell_type": "code",
   "execution_count": null,
   "metadata": {},
   "outputs": [],
   "source": []
  }
 ],
 "metadata": {
  "kernelspec": {
   "display_name": "Python 3",
   "language": "python",
   "name": "python3"
  },
  "language_info": {
   "codemirror_mode": {
    "name": "ipython",
    "version": 3
   },
   "file_extension": ".py",
   "mimetype": "text/x-python",
   "name": "python",
   "nbconvert_exporter": "python",
   "pygments_lexer": "ipython3",
   "version": "3.7.1"
  }
 },
 "nbformat": 4,
 "nbformat_minor": 2
}
