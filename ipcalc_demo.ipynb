{
 "cells": [
  {
   "cell_type": "markdown",
   "metadata": {},
   "source": [
    "# ipcalc demo\n",
    "\n",
    "This notebook is used to demonstrate the use of the ipcalc module for aspiring network engineers. \n",
    "\n",
    "The ipcalc module is great for manipulating IPv4/IPv6 IP address and network subnets.\n"
   ]
  },
  {
   "cell_type": "code",
   "execution_count": 2,
   "metadata": {},
   "outputs": [],
   "source": [
    "from ipcalc import Network, IP"
   ]
  },
  {
   "cell_type": "code",
   "execution_count": 6,
   "metadata": {},
   "outputs": [],
   "source": [
    "subnet = Network(\"192.168.1.0/29\")"
   ]
  },
  {
   "cell_type": "code",
   "execution_count": 5,
   "metadata": {},
   "outputs": [
    {
     "name": "stdout",
     "output_type": "stream",
     "text": [
      "<class 'ipcalc.Network'>\n"
     ]
    }
   ],
   "source": [
    "print(type(subnet))"
   ]
  },
  {
   "cell_type": "markdown",
   "metadata": {},
   "source": [
    "Below We will print the results of the dir() function to see what methods we have available on Network object. "
   ]
  },
  {
   "cell_type": "code",
   "execution_count": 4,
   "metadata": {},
   "outputs": [
    {
     "name": "stdout",
     "output_type": "stream",
     "text": [
      "['__add__', '__class__', '__contains__', '__delattr__', '__dict__', '__dir__', '__doc__', '__eq__', '__format__', '__ge__', '__getattribute__', '__getitem__', '__gt__', '__hash__', '__init__', '__init_subclass__', '__int__', '__iter__', '__le__', '__len__', '__long__', '__lt__', '__module__', '__ne__', '__new__', '__reduce__', '__reduce_ex__', '__repr__', '__setattr__', '__sizeof__', '__str__', '__sub__', '__subclasshook__', '__weakref__', '_bitmask', '_dqtoi', '_dqtoi_hex', '_dqtoi_ipv4', '_dqtoi_ipv6', '_itodq', '_range', 'bin', 'broadcast', 'broadcast_long', 'check_collision', 'clone', 'dq', 'from_bin', 'from_hex', 'guess_network', 'has_key', 'hash', 'hex', 'host_first', 'host_last', 'info', 'ip', 'mask', 'netmask', 'netmask_long', 'network', 'network_long', 'size', 'subnet', 'to_compressed', 'to_ipv4', 'to_ipv6', 'to_reverse', 'to_tuple', 'v', 'version']\n"
     ]
    }
   ],
   "source": [
    "print(dir(subnet))"
   ]
  },
  {
   "cell_type": "markdown",
   "metadata": {},
   "source": [
    "We will now run a few methods and print out their results"
   ]
  },
  {
   "cell_type": "code",
   "execution_count": 7,
   "metadata": {},
   "outputs": [
    {
     "name": "stdout",
     "output_type": "stream",
     "text": [
      "8\n"
     ]
    }
   ],
   "source": [
    "print(subnet.size())"
   ]
  },
  {
   "cell_type": "code",
   "execution_count": 9,
   "metadata": {},
   "outputs": [
    {
     "name": "stdout",
     "output_type": "stream",
     "text": [
      "PRIVATE\n"
     ]
    }
   ],
   "source": [
    "print(subnet.info())"
   ]
  },
  {
   "cell_type": "code",
   "execution_count": 10,
   "metadata": {},
   "outputs": [
    {
     "name": "stdout",
     "output_type": "stream",
     "text": [
      "192.168.0.0\n"
     ]
    }
   ],
   "source": [
    "print(subnet.network())"
   ]
  },
  {
   "cell_type": "code",
   "execution_count": 13,
   "metadata": {},
   "outputs": [
    {
     "name": "stdout",
     "output_type": "stream",
     "text": [
      "192.168.1.1\n"
     ]
    }
   ],
   "source": [
    "print(subnet.host_first())"
   ]
  },
  {
   "cell_type": "code",
   "execution_count": 14,
   "metadata": {},
   "outputs": [
    {
     "name": "stdout",
     "output_type": "stream",
     "text": [
      "192.168.1.6\n"
     ]
    }
   ],
   "source": [
    "print(subnet.host_last())"
   ]
  },
  {
   "cell_type": "code",
   "execution_count": 11,
   "metadata": {},
   "outputs": [
    {
     "name": "stdout",
     "output_type": "stream",
     "text": [
      "11000000101010000000000100000000\n"
     ]
    }
   ],
   "source": [
    "print(subnet.bin())"
   ]
  },
  {
   "cell_type": "code",
   "execution_count": 22,
   "metadata": {},
   "outputs": [
    {
     "name": "stdout",
     "output_type": "stream",
     "text": [
      "c0a80100\n"
     ]
    }
   ],
   "source": [
    "print(subnet.hex())"
   ]
  },
  {
   "cell_type": "code",
   "execution_count": 12,
   "metadata": {},
   "outputs": [
    {
     "name": "stdout",
     "output_type": "stream",
     "text": [
      "0.1.168.192.in-addr.arpa\n"
     ]
    }
   ],
   "source": [
    "print(subnet.to_reverse())"
   ]
  },
  {
   "cell_type": "code",
   "execution_count": 13,
   "metadata": {},
   "outputs": [
    {
     "name": "stdout",
     "output_type": "stream",
     "text": [
      "192.168.1.0\n"
     ]
    }
   ],
   "source": [
    "print(subnet.to_compressed())"
   ]
  },
  {
   "cell_type": "code",
   "execution_count": 14,
   "metadata": {},
   "outputs": [
    {
     "name": "stdout",
     "output_type": "stream",
     "text": [
      "-1256891612\n"
     ]
    }
   ],
   "source": [
    "print(subnet.hash())"
   ]
  },
  {
   "cell_type": "markdown",
   "metadata": {},
   "source": [
    "If you would like to get the host addresses in the subnet, we can preform traditional python loops to access each host IP. When iterating over the Network object, the value will be a IP object. The IP object also contains its own set of methods."
   ]
  },
  {
   "cell_type": "code",
   "execution_count": 15,
   "metadata": {},
   "outputs": [
    {
     "name": "stdout",
     "output_type": "stream",
     "text": [
      "Index: 0 - IP Address: 192.168.1.1 Type: <class 'ipcalc.IP'>\n",
      "Index: 1 - IP Address: 192.168.1.2 Type: <class 'ipcalc.IP'>\n",
      "Index: 2 - IP Address: 192.168.1.3 Type: <class 'ipcalc.IP'>\n",
      "Index: 3 - IP Address: 192.168.1.4 Type: <class 'ipcalc.IP'>\n",
      "Index: 4 - IP Address: 192.168.1.5 Type: <class 'ipcalc.IP'>\n",
      "Index: 5 - IP Address: 192.168.1.6 Type: <class 'ipcalc.IP'>\n"
     ]
    }
   ],
   "source": [
    "for i, ip in enumerate(subnet):\n",
    "    print(\"Index:\", i, \"-\",  \"IP Address:\", ip, \"Type:\", type(ip))"
   ]
  },
  {
   "cell_type": "code",
   "execution_count": 17,
   "metadata": {},
   "outputs": [
    {
     "name": "stdout",
     "output_type": "stream",
     "text": [
      "['__add__', '__class__', '__delattr__', '__dict__', '__dir__', '__doc__', '__eq__', '__format__', '__ge__', '__getattribute__', '__gt__', '__hash__', '__init__', '__init_subclass__', '__int__', '__le__', '__long__', '__lt__', '__module__', '__ne__', '__new__', '__reduce__', '__reduce_ex__', '__repr__', '__setattr__', '__sizeof__', '__str__', '__sub__', '__subclasshook__', '__weakref__', '_bitmask', '_dqtoi', '_dqtoi_hex', '_dqtoi_ipv4', '_dqtoi_ipv6', '_itodq', '_range', 'bin', 'clone', 'dq', 'from_bin', 'from_hex', 'guess_network', 'hash', 'hex', 'info', 'ip', 'mask', 'size', 'subnet', 'to_compressed', 'to_ipv4', 'to_ipv6', 'to_reverse', 'to_tuple', 'v', 'version']\n"
     ]
    }
   ],
   "source": [
    "host = subnet[1]\n",
    "print(dir(host))"
   ]
  },
  {
   "cell_type": "code",
   "execution_count": 18,
   "metadata": {},
   "outputs": [
    {
     "name": "stdout",
     "output_type": "stream",
     "text": [
      "2002:c0a8:0101:0000:0000:0000:0000:0000\n"
     ]
    }
   ],
   "source": [
    "print(host.to_ipv6())"
   ]
  },
  {
   "cell_type": "code",
   "execution_count": 19,
   "metadata": {},
   "outputs": [
    {
     "name": "stdout",
     "output_type": "stream",
     "text": [
      "192.168.1.1\n"
     ]
    }
   ],
   "source": [
    "print(host.to_ipv4())"
   ]
  },
  {
   "cell_type": "code",
   "execution_count": 24,
   "metadata": {},
   "outputs": [
    {
     "name": "stdout",
     "output_type": "stream",
     "text": [
      "192.168.1.0/29\n"
     ]
    }
   ],
   "source": [
    "print(host.guess_network())"
   ]
  }
 ],
 "metadata": {
  "kernelspec": {
   "display_name": "Python 3",
   "language": "python",
   "name": "python3"
  },
  "language_info": {
   "codemirror_mode": {
    "name": "ipython",
    "version": 3
   },
   "file_extension": ".py",
   "mimetype": "text/x-python",
   "name": "python",
   "nbconvert_exporter": "python",
   "pygments_lexer": "ipython3",
   "version": "3.7.1"
  }
 },
 "nbformat": 4,
 "nbformat_minor": 2
}
